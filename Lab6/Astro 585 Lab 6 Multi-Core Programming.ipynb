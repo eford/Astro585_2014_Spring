{
 "metadata": {
  "name": ""
 },
 "nbformat": 3,
 "nbformat_minor": 0,
 "worksheets": [
  {
   "cells": [
    {
     "cell_type": "heading",
     "level": 1,
     "metadata": {},
     "source": [
      "Astro 585 Spring 2014<br>\n",
      "Homework 6:  Parallel Computing:  Multi-Core Workstations"
     ]
    },
    {
     "cell_type": "heading",
     "level": 4,
     "metadata": {},
     "source": [
      "Q1.  First, we'll parallelize some simple code from a previous exercise.  I'll walk you though the syntax in Julia and highlight some potential mistakes."
     ]
    },
    {
     "cell_type": "markdown",
     "metadata": {},
     "source": [
      "First, check how many processors your computer has.  On linux, you can do this by running /cat/cpuinfo from the command line and seeing how many processors are listed.\n",
      "If your machine only has one, then ssh to another computer with Julia installed for the parallel parts.  \n",
      "Next, check how many processor Julia is currently using."
     ]
    },
    {
     "cell_type": "code",
     "collapsed": false,
     "input": [
      "nprocs()"
     ],
     "language": "python",
     "metadata": {},
     "outputs": [
      {
       "metadata": {},
       "output_type": "pyout",
       "prompt_number": 1,
       "text": [
        "1"
       ]
      }
     ],
     "prompt_number": 1
    },
    {
     "cell_type": "markdown",
     "metadata": {},
     "source": [
      "When using the REPL interface, you can tell Julia to use multiple cores on a single workstation by starting it like \"julia -p 4\".\n",
      "When using IJulia, it's easier to tell it to add processors from within the notebook with the addprocs(N) command.\n",
      "Using addprocs(N) to tell Julia to use as many processors as your workstation has.  "
     ]
    },
    {
     "cell_type": "code",
     "collapsed": false,
     "input": [
      "addprocs(4)"
     ],
     "language": "python",
     "metadata": {},
     "outputs": [
      {
       "metadata": {},
       "output_type": "pyout",
       "prompt_number": 1,
       "text": [
        "4-element Array{Any,1}:\n",
        " 2\n",
        " 3\n",
        " 4\n",
        " 5"
       ]
      }
     ],
     "prompt_number": 1
    },
    {
     "cell_type": "markdown",
     "metadata": {},
     "source": [
      "Now, check how many processor and how many \"workers\" are active."
     ]
    },
    {
     "cell_type": "code",
     "collapsed": false,
     "input": [
      "println(\"nprocs()= \",nprocs())\n",
      "println(\"nworkers()= \",nworkers())\n",
      "println(\"myid()= \",myid())"
     ],
     "language": "python",
     "metadata": {},
     "outputs": [
      {
       "output_type": "stream",
       "stream": "stdout",
       "text": [
        "nprocs()= "
       ]
      },
      {
       "output_type": "stream",
       "stream": "stdout",
       "text": [
        "5\n",
        "nworkers()= 4\n",
        "myid()= 1\n"
       ]
      }
     ],
     "prompt_number": 33
    },
    {
     "cell_type": "markdown",
     "metadata": {},
     "source": [
      "1a.  What's the differences between nprocs() and nworkers()?"
     ]
    },
    {
     "cell_type": "markdown",
     "metadata": {},
     "source": [
      "You can instruct Julia to start a calculation on another node using @spawn or @spawnat.  \n",
      "Since the whole point is you want multiple processors working at once, you don't want to have ot wait until that function finished.\n",
      "Therefore, these macros return a RemoteRef data type, rather than the return value.  You can retreive the returned value using fetch."
     ]
    },
    {
     "cell_type": "code",
     "collapsed": false,
     "input": [
      "ref = @spawn 1+1"
     ],
     "language": "python",
     "metadata": {},
     "outputs": [
      {
       "metadata": {},
       "output_type": "pyout",
       "prompt_number": 42,
       "text": [
        "RemoteRef(3,1,547392)"
       ]
      }
     ],
     "prompt_number": 42
    },
    {
     "cell_type": "code",
     "collapsed": false,
     "input": [
      "fetch(ref)"
     ],
     "language": "python",
     "metadata": {},
     "outputs": [
      {
       "metadata": {},
       "output_type": "pyout",
       "prompt_number": 43,
       "text": [
        "2"
       ]
      }
     ],
     "prompt_number": 43
    },
    {
     "cell_type": "markdown",
     "metadata": {},
     "source": [
      "Define our beloved normal pdf function"
     ]
    },
    {
     "cell_type": "code",
     "collapsed": false,
     "input": [
      "normal_pdf(x) = exp(-0.5*x.*x)./sqrt(2.*pi)"
     ],
     "language": "python",
     "metadata": {},
     "outputs": [
      {
       "metadata": {},
       "output_type": "pyout",
       "prompt_number": 3,
       "text": [
        "normal_pdf (generic function with 1 method)"
       ]
      }
     ],
     "prompt_number": 3
    },
    {
     "cell_type": "markdown",
     "metadata": {},
     "source": [
      "Now let's write a loop-based integrate function like from the previous lab."
     ]
    },
    {
     "cell_type": "code",
     "collapsed": false,
     "input": [
      "# Calculate \\int_a^b dx func(x) using n function evaluations\n",
      "# Approximates integral as uniformly spaced rectangles\n",
      "# Avoids evaluating func at a or b, in case of singularities\n",
      "function int_normal_pdf(a::Real, b::Real, n::Integer = 1000000)\n",
      "  @assert(n>2)\n",
      "  integral = 0.\n",
      "  for i in 1:n\n",
      "    x = a+i*(b-a)/(n+1)\n",
      "    integral += normal_pdf(x)\n",
      "  end\n",
      "  integral *= (b-a)/n;\n",
      "end"
     ],
     "language": "python",
     "metadata": {},
     "outputs": [
      {
       "metadata": {},
       "output_type": "pyout",
       "prompt_number": 4,
       "text": [
        "int_normal_pdf (generic function with 2 methods)"
       ]
      }
     ],
     "prompt_number": 4
    },
    {
     "cell_type": "markdown",
     "metadata": {},
     "source": [
      "Let's write a function to perform a few tests that our function is accurate"
     ]
    },
    {
     "cell_type": "code",
     "collapsed": false,
     "input": [
      "using Base.Test\n",
      "function test_int_normal_pdf(func::Function; n::Integer = 1000000, eps::Real = 1.0e-6)\n",
      "  limits = 1:5\n",
      "  for limit in limits\n",
      "    @test_approx_eq_eps func(-limit,limit) erf(limit/sqrt(2.0)) eps\n",
      "  end\n",
      "end\n",
      "test_int_normal_pdf(int_normal_pdf)\n",
      "@time  int_normal_pdf(-1.0,1.0,1000000)\n",
      "@time  int_normal_pdf(-1.0,1.0,1000000)"
     ],
     "language": "python",
     "metadata": {},
     "outputs": [
      {
       "output_type": "stream",
       "stream": "stdout",
       "text": [
        "elapsed time: "
       ]
      },
      {
       "output_type": "stream",
       "stream": "stdout",
       "text": [
        "0.050978745 seconds (146788 bytes allocated)\n",
        "elapsed time: 0.047098455 seconds (64 bytes allocated)\n"
       ]
      },
      {
       "metadata": {},
       "output_type": "pyout",
       "prompt_number": 5,
       "text": [
        "0.6826896908849539"
       ]
      }
     ],
     "prompt_number": 5
    },
    {
     "cell_type": "markdown",
     "metadata": {},
     "source": [
      "Now, let's parallelize that loop using the @parallel macro and test the function for accuracy."
     ]
    },
    {
     "cell_type": "code",
     "collapsed": false,
     "input": [
      "function int_normal_pdf(a::Real, b::Real, n::Integer = 1000000)\n",
      "  @assert(n>2)\n",
      "  integral = 0.\n",
      "  @parallel for i in 1:n\n",
      "    x = a+i*(b-a)/(n+1)\n",
      "    integral += normal_pdf(x)\n",
      "  end\n",
      "  integral *= (b-a)/n;\n",
      "end\n",
      "\n",
      "test_int_normal_pdf(int_normal_pdf)"
     ],
     "language": "python",
     "metadata": {},
     "outputs": [
      {
       "output_type": "stream",
       "stream": "stdout",
       "text": [
        "\n"
       ]
      },
      {
       "output_type": "stream",
       "stream": "stderr",
       "text": [
        "exception on exception on exception on 34: 5: ERROR: : ERROR: ERROR: "
       ]
      },
      {
       "output_type": "stream",
       "stream": "stderr",
       "text": [
        "WARNING: backtraces on your platform are often misleading or partially incorrect\n"
       ]
      },
      {
       "output_type": "stream",
       "stream": "stdout",
       "text": [
        "\n"
       ]
      },
      {
       "ename": "LoadError",
       "evalue": "assertion failed: |:(func(-(limit),limit)) - :(erf(/(limit,sqrt(2.0))))| <= 1.0e-6\n  :(func(-(limit),limit)) = 0.0\n  :(erf(/(limit,sqrt(2.0)))) = 0.6826894921370859\n  difference = 0.6826894921370859 > 1.0e-6\nat In[6]:11",
       "output_type": "pyerr",
       "traceback": [
        "assertion failed: |:(func(-(limit),limit)) - :(erf(/(limit,sqrt(2.0))))| <= 1.0e-6\n  :(func(-(limit),limit)) = 0.0\n  :(erf(/(limit,sqrt(2.0)))) = 0.6826894921370859\n  difference = 0.6826894921370859 > 1.0e-6\nat In[6]:11",
        " in error at error.jl:22"
       ]
      },
      {
       "output_type": "stream",
       "stream": "stderr",
       "text": [
        "normal_pdf not definednormal_pdf not defined\n",
        "normal_pdf not defined in \n",
        " in anonymous at no file:6\n",
        " in anonymous at multi.jl:1278anonymousexception on \n",
        " at  in 2: no fileanonymous: at 6no file\n",
        ": in 6anonymous\n",
        " at multi.jl in :anonymous1278 at multi.jlERROR: :WARNING: backtraces on your platform are often misleading or partially incorrect\n",
        "\n"
       ]
      },
      {
       "output_type": "stream",
       "stream": "stdout",
       "text": [
        "\tFrom worker 4:\t\n",
        "\tFrom worker 3:\t\n"
       ]
      },
      {
       "output_type": "stream",
       "stream": "stderr",
       "text": [
        "1278normal_pdf not definedWARNING: backtraces on your platform are often misleading or partially incorrect\n",
        "\n",
        "\n",
        " in anonymous at no file:6\n",
        " in anonymous at multi.jl:1278WARNING: backtraces on your platform are often misleading or partially incorrect\n",
        "\n"
       ]
      },
      {
       "output_type": "stream",
       "stream": "stdout",
       "text": [
        "\tFrom worker 5:\t\n",
        "\tFrom worker 2:\t\n"
       ]
      },
      {
       "output_type": "stream",
       "stream": "stderr",
       "text": [
        "WARNING: backtraces on your platform are often misleading or partially incorrect\n",
        "\n"
       ]
      }
     ],
     "prompt_number": 6
    },
    {
     "cell_type": "markdown",
     "metadata": {},
     "source": [
      "1b.  Notice that we get messages like normal_pdf not defined.  Why is that?  \n",
      "\n",
      "We've defined functions on only the first processor.  We need to make sure they're also definied on any other processors that we want to use the functions.  The easiest way to do that is with the @everywhere macro.  You can either stick it in front of each function (in your notebook) or save the functions to a file and load them with @everywhere include(\"file.jl\").  \n",
      "Let's redefine the above functions, but now forcing them to be declared on each processor."
     ]
    },
    {
     "cell_type": "code",
     "collapsed": false,
     "input": [
      "@everywhere normal_pdf(x) = exp(-0.5*x.*x)./sqrt(2.*pi)\n",
      "@everywhere using Base.Test\n",
      "\n",
      "@everywhere function test_int_normal_pdf(func::Function; n::Integer = 1000000, eps::Real = 1.0e-6)\n",
      "  limits = 1:5\n",
      "  for limit in limits\n",
      "    @test_approx_eq_eps func(-limit,limit) erf(limit/sqrt(2.0)) eps\n",
      "  end\n",
      "end\n",
      "\n",
      "@everywhere function int_normal_pdf(a::Real, b::Real, n::Integer = 1000000)\n",
      "  @assert(n>2)\n",
      "  integral = 0.\n",
      "  @parallel for i in 1:n\n",
      "    x = a+i*(b-a)/(n+1)\n",
      "    integral += normal_pdf(x)\n",
      "  end\n",
      "  integral *= (b-a)/n\n",
      "end\n",
      "\n",
      "test_int_normal_pdf(int_normal_pdf)"
     ],
     "language": "python",
     "metadata": {},
     "outputs": [
      {
       "output_type": "stream",
       "stream": "stdout",
       "text": [
        "\n"
       ]
      },
      {
       "ename": "LoadError",
       "evalue": "assertion failed: |:(func(-(limit),limit)) - :(erf(/(limit,sqrt(2.0))))| <= 1.0e-6\n  :(func(-(limit),limit)) = 0.0\n  :(erf(/(limit,sqrt(2.0)))) = 0.6826894921370859\n  difference = 0.6826894921370859 > 1.0e-6\nat In[3]:21",
       "output_type": "pyerr",
       "traceback": [
        "assertion failed: |:(func(-(limit),limit)) - :(erf(/(limit,sqrt(2.0))))| <= 1.0e-6\n  :(func(-(limit),limit)) = 0.0\n  :(erf(/(limit,sqrt(2.0)))) = 0.6826894921370859\n  difference = 0.6826894921370859 > 1.0e-6\nat In[3]:21",
        " in error at error.jl:22"
       ]
      },
      {
       "output_type": "stream",
       "stream": "stdout",
       "text": [
        "\n"
       ]
      }
     ],
     "prompt_number": 3
    },
    {
     "cell_type": "markdown",
     "metadata": {},
     "source": [
      "1c.  Now, we've eliminated some of the error messages, but our test still fails.  And it can fail badly.  Why is that?\n"
     ]
    },
    {
     "cell_type": "markdown",
     "metadata": {},
     "source": [
      "This type of operation is so common, that Julia provides a special syntax that makes this kind of loop easy:"
     ]
    },
    {
     "cell_type": "code",
     "collapsed": false,
     "input": [
      "@everywhere function int_normal_pdf(a::Real, b::Real, n::Integer = 1000000)\n",
      "  @assert(n>2)\n",
      "  integral = @parallel (+) for i in 1:n\n",
      "    x = a+i*(b-a)/(n+1)\n",
      "    normal_pdf(x)\n",
      "  end\n",
      "  integral *= (b-a)/n;\n",
      "end\n",
      "\n",
      "test_int_normal_pdf(int_normal_pdf)\n",
      "@time  int_normal_pdf(-1.0,1.0,1000000)\n",
      "@time  int_normal_pdf(-1.0,1.0,1000000)"
     ],
     "language": "python",
     "metadata": {},
     "outputs": [
      {
       "output_type": "stream",
       "stream": "stdout",
       "text": [
        "elapsed time: "
       ]
      },
      {
       "output_type": "stream",
       "stream": "stdout",
       "text": [
        "0.036177852 seconds (369180 bytes allocated)\n",
        "elapsed time: 0.011819853 seconds (287272 bytes allocated)\n"
       ]
      },
      {
       "metadata": {},
       "output_type": "pyout",
       "prompt_number": 4,
       "text": [
        "0.682689690884967"
       ]
      }
     ],
     "prompt_number": 4
    },
    {
     "cell_type": "markdown",
     "metadata": {},
     "source": [
      "Here Julia is taking the last line of the for loop as the value to be \"reduced\" by the \"+\" operator and the result is stored in integral.  Note that the loop is no longer executed in order, since different processors are executing different parts of the loop."
     ]
    },
    {
     "cell_type": "markdown",
     "metadata": {},
     "source": [
      "Next, let's try performing the same calculation using parallel map function (pmap)"
     ]
    },
    {
     "cell_type": "code",
     "collapsed": false,
     "input": [
      "function int_normal_pdf(a::Real,b::Real, n::Integer = 1000000)\n",
      "  @assert(n>2)\n",
      "  dx = (b-a)/n\n",
      "  x = (a+0.5*dx):dx:(b-0.5*dx)\n",
      "  integral = sum(pmap(normal_pdf,x)) * (b-a)/n \n",
      "end\n",
      "#test_int_normal_pdf(int_normal_pdf)  # Commented out for speed's sake\n",
      "@time  int_normal_pdf(-1.0,1.0,10000)\n",
      "@time  int_normal_pdf(-1.0,1.0,10000)"
     ],
     "language": "python",
     "metadata": {},
     "outputs": [
      {
       "output_type": "stream",
       "stream": "stdout",
       "text": [
        "elapsed time: "
       ]
      },
      {
       "output_type": "stream",
       "stream": "stdout",
       "text": [
        "0.999914263 seconds (53039292 bytes allocated)\n"
       ]
      },
      {
       "output_type": "stream",
       "stream": "stdout",
       "text": [
        "elapsed time: "
       ]
      },
      {
       "output_type": "stream",
       "stream": "stdout",
       "text": [
        "0.932494164 seconds (52937740 bytes allocated)\n"
       ]
      },
      {
       "metadata": {},
       "output_type": "pyout",
       "prompt_number": 39,
       "text": [
        "0.682689492943655"
       ]
      }
     ],
     "prompt_number": 39
    },
    {
     "cell_type": "markdown",
     "metadata": {},
     "source": [
      "Yikes, that's crazy slow.  You may even want to restart the kernel.  "
     ]
    },
    {
     "cell_type": "markdown",
     "metadata": {},
     "source": [
      "Next, we'll make use of distributed arrays to demonstrate how to handle more complex parallelization tasks."
     ]
    },
    {
     "cell_type": "code",
     "collapsed": false,
     "input": [
      "function int_normal_pdf(a::Real, b::Real, n::Integer = 1000000)\n",
      "  @assert(n>2)\n",
      "  x = distribute([ a+i*(b-a)/(n+1) for i in 1:n ])\n",
      "  integral = sum(map(normal_pdf,x)) * (b-a)/n \n",
      "end\n",
      "#test_int_normal_pdf(int_normal_pdf)  # Commented out for speed's sake\n",
      "@time  int_normal_pdf(-1.0,1.0,10000)\n",
      "@time  int_normal_pdf(-1.0,1.0,10000)"
     ],
     "language": "python",
     "metadata": {},
     "outputs": [
      {
       "output_type": "stream",
       "stream": "stdout",
       "text": [
        "elapsed time: "
       ]
      },
      {
       "output_type": "stream",
       "stream": "stdout",
       "text": [
        "1.740478057 seconds (70045084 bytes allocated)\n"
       ]
      },
      {
       "output_type": "stream",
       "stream": "stdout",
       "text": [
        "elapsed time: "
       ]
      },
      {
       "output_type": "stream",
       "stream": "stdout",
       "text": [
        "1.695398965 seconds (69971236 bytes allocated)\n"
       ]
      },
      {
       "metadata": {},
       "output_type": "pyout",
       "prompt_number": 40,
       "text": [
        "0.682709365328419"
       ]
      }
     ],
     "prompt_number": 40
    },
    {
     "cell_type": "code",
     "collapsed": false,
     "input": [
      "function int_normal_pdf(a::Real, b::Real, n::Integer = 1000000)\n",
      "  @assert(n>2)\n",
      "  x = distribute([ a+i*(b-a)/(n+1) for i in 1:n ])\n",
      "  integral = sum(pmap(normal_pdf,x)) * (b-a)/n \n",
      "end\n",
      "#test_int_normal_pdf(int_normal_pdf)  # Commented out for speed's sake\n",
      "@time  int_normal_pdf(-1.0,1.0,10000)\n",
      "@time  int_normal_pdf(-1.0,1.0,10000)"
     ],
     "language": "python",
     "metadata": {},
     "outputs": [
      {
       "output_type": "stream",
       "stream": "stdout",
       "text": [
        "elapsed time: "
       ]
      },
      {
       "output_type": "stream",
       "stream": "stdout",
       "text": [
        "5.632140469 seconds (349564152 bytes allocated)\n"
       ]
      },
      {
       "output_type": "stream",
       "stream": "stdout",
       "text": [
        "elapsed time: "
       ]
      },
      {
       "output_type": "stream",
       "stream": "stdout",
       "text": [
        "5.694707538 seconds (347471816 bytes allocated)\n"
       ]
      },
      {
       "metadata": {},
       "output_type": "pyout",
       "prompt_number": 41,
       "text": [
        "1.9459908433516722"
       ]
      }
     ],
     "prompt_number": 41
    },
    {
     "cell_type": "markdown",
     "metadata": {},
     "source": [
      "While we succeeded in using distributed array, the performance wasn't very good.  \n",
      "Next, we'll implement a more efficient parallelization using distribute arrays.  \n",
      "For this, you'll need to look up several functions in line 3 below and consider them piece by piece.  \n",
      "First, create a distributed array with dzeros, dones, drand or drandn.  \n",
      "Then, look at which processors are storing data for that array with procs().\n",
      "Then, check how much of the array is stored on the processor running your notebook using localpart() or myindexes()\n",
      "Then, use @spawnat and localpart() to have a processor operate only on the portion of the distributed array that it has in its own memory.\n",
      "Then use fetch with map to retreive the results from each processor working on it's own portion of the distributed array.\n",
      "Finally, use reduce to combine all these elements.  "
     ]
    },
    {
     "cell_type": "code",
     "collapsed": false,
     "input": [
      "function int_normal_pdf(a::Real, b::Real, n::Integer = 1000000)\n",
      "  @assert(n>2)\n",
      "  x = distribute([ a+i*(b-a)/(n+1) for i in 1:n ])\n",
      "  integral = (b-a)/n * reduce(+,map(fetch,{ (@spawnat p sum(normal_pdf(localpart(x)))) for p in procs(x) }))\n",
      "end\n",
      "test_int_normal_pdf(int_normal_pdf)\n",
      "@time  int_normal_pdf(-1.0,1.0,1000000)\n",
      "@time  int_normal_pdf(-1.0,1.0,1000000)\n"
     ],
     "language": "python",
     "metadata": {},
     "outputs": [
      {
       "output_type": "stream",
       "stream": "stdout",
       "text": [
        "elapsed time: "
       ]
      },
      {
       "output_type": "stream",
       "stream": "stdout",
       "text": [
        "0.141432068 seconds (25013228 bytes allocated)\n"
       ]
      },
      {
       "output_type": "stream",
       "stream": "stdout",
       "text": [
        "elapsed time: 0.119345506 seconds (24744072 bytes allocated)\n"
       ]
      },
      {
       "metadata": {},
       "output_type": "pyout",
       "prompt_number": 44,
       "text": [
        "0.6826896908849678"
       ]
      }
     ],
     "prompt_number": 44
    },
    {
     "cell_type": "markdown",
     "metadata": {},
     "source": [
      "As you can see, @parallel is better suited for small loops that execute quickly.\n",
      "Map and pmap are more useful for distributing more time consuming functions.  "
     ]
    },
    {
     "cell_type": "heading",
     "level": 4,
     "metadata": {},
     "source": [
      "Q2.  In this exercise, you'll parallelize a more time consuming simulation task.  We'll consider a population of stars, each of which has a  probability $\\eta$ of having one planet.  Then we'll assume a that the planets' orbital periods are drawn from a truncated inverse gamma distribution.  An inverse gamma distribution takes two model parameters, one shape parameter that is like a power-law index for large orbital periods and one scale factor that determines below what period planets will become much less common.  We'll truncate the period distribution, so that no planets orbit inside a star or have a period greater than 4/3 of a year (based on Kepler's mission lifetime).  Each planet has a probability of transiting it's star approximated by $R_*/a$, where $R_*$ is the radius of the star and a is the semi-major axis of the orbit (related to orbital period via Kepler's third law).  (For simplicity, we'll make many assumptions like all stars will be one solar mass and one solar radius, no planet will be too small to be detected above the noise, each star can have only zero or one planets, planets will be on circular orbits, etc. )   We will generate one set of \"observations\" using a particular set of parameter values.  Then we will explore the three-dimensional parameter space ($\\eta$, shape, scale), pretending that we don't know the true values.   For each set of model parameters that we consider, we'll generate one (or more) simulated data sets and comapre those to the \"observations\" via several summary statistics (e.g., number of transiting planets, mean period of transiting planets, standard deviation of transiting planets, etc.) and record a \"distance\" between the summary statistics of the observations and the summary statistics for the simulated data.  You can then plot various projections of this 3-d function to gain intuition for what combinations of $\\eta$, shape and scale are plaussible matches to the data.  "
     ]
    },
    {
     "cell_type": "markdown",
     "metadata": {},
     "source": [
      "2a.  First, read through and load the two files that contain a starter program.\n",
      "Then, perform a set of simulations using parameters similar to those below.\n"
     ]
    },
    {
     "cell_type": "code",
     "collapsed": false,
     "input": [
      "@everywhere include(\"HW6_Q2_planet_populations_once.jl\")  "
     ],
     "language": "python",
     "metadata": {},
     "outputs": []
    },
    {
     "cell_type": "code",
     "collapsed": false,
     "input": [
      "@everywhere include(\"HW6_Q2_planet_populations.jl\")"
     ],
     "language": "python",
     "metadata": {},
     "outputs": []
    },
    {
     "cell_type": "code",
     "collapsed": false,
     "input": [
      "min_eta = 0.0\n",
      "max_eta = 1.0\n",
      "min_shape = 0.0001\n",
      "max_shape = 1.0\n",
      "min_log_scale = log10(0.3)\n",
      "max_log_scale = log10(3.0)  \n",
      "num_eta = 4\n",
      "num_shape = 4\n",
      "num_scale = 4\n",
      "num_evals = 1\n",
      "etas = linspace(min_eta,max_eta,num_eta)\n",
      "scales = 10.0.^linspace(min_log_scale,max_log_scale,num_scale)\n",
      "shapes = linspace(min_shape,max_shape,num_shape)\n",
      "num_stars = 16000\n",
      "eta = 0.2\n",
      "shape = 0.1\n",
      "scale = 1.0;"
     ],
     "language": "python",
     "metadata": {},
     "outputs": [],
     "prompt_number": 47
    },
    {
     "cell_type": "code",
     "collapsed": false,
     "input": [
      "srand(42)\n",
      "@time result = eval_model_on_grid_loops(etas,shapes,scales,num_stars; num_evals = num_evals, true_eta = eta, true_shape = shape, true_scale = scale);"
     ],
     "language": "python",
     "metadata": {},
     "outputs": []
    },
    {
     "cell_type": "markdown",
     "metadata": {},
     "source": [
      "Note that for speed's sake, I've limited the number of function evaluations to only 4 in each of the three model parameters.  \n",
      "Additionally, I've reduced the number of stars to only 16000.  Kepler observed ~160,000 stars at a time.  \n",
      "\n",
      "You might like to plot the results, using a command such as "
     ]
    },
    {
     "cell_type": "code",
     "collapsed": false,
     "input": [
      "using PyPlot\n",
      "PyPlot.contour(log10(scales),shapes,[minimum(result[:,j,k]) for j in 1:num_scale, k in 1:num_shape])\n",
      "plot(log10([scale]),[shape],\"ro\")  # Put dot where true values of parameters are\n",
      "xlabel(L\"$\\log_{10}(\\mathrm{scale})$\");  ylabel(\"shape\");\n"
     ],
     "language": "python",
     "metadata": {},
     "outputs": [
      {
       "metadata": {},
       "output_type": "display_data",
       "png": "[encoded data removed]",
       "svg": [
        "<?xml version=\"1.0\" encoding=\"utf-8\" standalone=\"no\"?>\n",
        "<!DOCTYPE svg PUBLIC \"-//W3C//DTD SVG 1.1//EN\"\n",
        "  \"http://www.w3.org/Graphics/SVG/1.1/DTD/svg11.dtd\">\n",
        "<!-- Created with matplotlib (http://matplotlib.org/) -->\n",
        "<svg height=\"398pt\" version=\"1.1\" viewBox=\"0 0 499 398\" width=\"499pt\" xmlns=\"http://www.w3.org/2000/svg\" xmlns:xlink=\"http://www.w3.org/1999/xlink\">\n",
        " <defs>\n",
        "  <style type=\"text/css\">\n",
        "*{stroke-linecap:butt;stroke-linejoin:round;}\n",
        "  </style>\n",
        " </defs>\n",
        " <g id=\"figure_1\">\n",
        "  <g id=\"patch_1\">\n",
        "   <path d=\"\n",
        "M0 398.781\n",
        "L499.033 398.781\n",
        "L499.033 0\n",
        "L0 0\n",
        "z\n",
        "\" style=\"fill:#ffffff;\"/>\n",
        "  </g>\n",
        "  <g id=\"axes_1\">\n",
        "   <g id=\"patch_2\">\n",
        "    <path d=\"\n",
        "M45.4331 358.607\n",
        "L491.833 358.607\n",
        "L491.833 13.0069\n",
        "L45.4331 13.0069\n",
        "z\n",
        "\" style=\"fill:#ffffff;\"/>\n",
        "   </g>\n",
        "   <g id=\"LineCollection_1\">\n",
        "    <defs>\n",
        "     <path d=\"\n",
        "M176.918 -40.1737\n",
        "L194.233 -53.5788\n",
        "L218.999 -40.1737\" id=\"C0_0_a9c3a80d54\"/>\n",
        "    </defs>\n",
        "    <g clip-path=\"url(#peb2de42508)\">\n",
        "     <use style=\"fill:none;stroke:#000080;\" x=\"0.0\" xlink:href=\"#C0_0_a9c3a80d54\" y=\"398.780625\"/>\n",
        "    </g>\n",
        "   </g>\n",
        "   <g id=\"LineCollection_2\">\n",
        "    <defs>\n",
        "     <path d=\"\n",
        "M153.012 -40.1737\n",
        "L194.233 -72.087\n",
        "L253.193 -40.1737\" id=\"C1_0_630430af66\"/>\n",
        "    </defs>\n",
        "    <g clip-path=\"url(#peb2de42508)\">\n",
        "     <use style=\"fill:none;stroke:#004cff;\" x=\"0.0\" xlink:href=\"#C1_0_630430af66\" y=\"398.780625\"/>\n",
        "    </g>\n",
        "   </g>\n",
        "   <g id=\"LineCollection_3\">\n",
        "    <defs>\n",
        "     <path d=\"\n",
        "M129.105 -40.1737\n",
        "L194.233 -90.5952\n",
        "L287.387 -40.1737\" id=\"C2_0_bf0ad992aa\"/>\n",
        "    </defs>\n",
        "    <g clip-path=\"url(#peb2de42508)\">\n",
        "     <use style=\"fill:none;stroke:#29ffce;\" x=\"0.0\" xlink:href=\"#C2_0_bf0ad992aa\" y=\"398.780625\"/>\n",
        "    </g>\n",
        "   </g>\n",
        "   <g id=\"LineCollection_4\">\n",
        "    <defs>\n",
        "     <path d=\"\n",
        "M105.199 -40.1737\n",
        "L194.233 -109.103\n",
        "L333.304 -155.374\n",
        "L343.033 -162.906\n",
        "L456.028 -270.574\n",
        "L491.833 -298.294\" id=\"C3_0_638bd31c7a\"/>\n",
        "     <path d=\"\n",
        "M321.581 -40.1737\n",
        "L343.033 -130.259\n",
        "L491.833 -132.79\" id=\"C3_1_39ccb4348e\"/>\n",
        "    </defs>\n",
        "    <g clip-path=\"url(#peb2de42508)\">\n",
        "     <use style=\"fill:none;stroke:#ceff29;\" x=\"0.0\" xlink:href=\"#C3_0_638bd31c7a\" y=\"398.780625\"/>\n",
        "    </g>\n",
        "    <g clip-path=\"url(#peb2de42508)\">\n",
        "     <use style=\"fill:none;stroke:#ceff29;\" x=\"0.0\" xlink:href=\"#C3_1_39ccb4348e\" y=\"398.780625\"/>\n",
        "    </g>\n",
        "   </g>\n",
        "   <g id=\"LineCollection_5\">\n",
        "    <defs>\n",
        "     <path d=\"\n",
        "M81.2927 -40.1737\n",
        "L194.233 -127.612\n",
        "L277.676 -155.374\n",
        "L343.033 -205.973\n",
        "L410.83 -270.574\n",
        "L491.833 -333.286\" id=\"C4_0_67bed0468b\"/>\n",
        "     <path d=\"\n",
        "M372.643 -40.1737\n",
        "L491.833 -95.7436\" id=\"C4_1_e40e54119e\"/>\n",
        "    </defs>\n",
        "    <g clip-path=\"url(#peb2de42508)\">\n",
        "     <use style=\"fill:none;stroke:#ff6800;\" x=\"0.0\" xlink:href=\"#C4_0_67bed0468b\" y=\"398.780625\"/>\n",
        "    </g>\n",
        "    <g clip-path=\"url(#peb2de42508)\">\n",
        "     <use style=\"fill:none;stroke:#ff6800;\" x=\"0.0\" xlink:href=\"#C4_1_e40e54119e\" y=\"398.780625\"/>\n",
        "    </g>\n",
        "   </g>\n",
        "   <g id=\"LineCollection_6\">\n",
        "    <defs>\n",
        "     <path d=\"\n",
        "M57.3863 -40.1737\n",
        "L194.233 -146.12\n",
        "L222.047 -155.374\n",
        "L343.033 -249.04\n",
        "L365.632 -270.574\n",
        "L491.833 -368.278\" id=\"C5_0_b51074a640\"/>\n",
        "     <path d=\"\n",
        "M452.103 -40.1737\n",
        "L491.833 -58.697\" id=\"C5_1_c9bb78a54c\"/>\n",
        "    </defs>\n",
        "    <g clip-path=\"url(#peb2de42508)\">\n",
        "     <use style=\"fill:none;stroke:#800000;\" x=\"0.0\" xlink:href=\"#C5_0_b51074a640\" y=\"398.780625\"/>\n",
        "    </g>\n",
        "    <g clip-path=\"url(#peb2de42508)\">\n",
        "     <use style=\"fill:none;stroke:#800000;\" x=\"0.0\" xlink:href=\"#C5_1_c9bb78a54c\" y=\"398.780625\"/>\n",
        "    </g>\n",
        "   </g>\n",
        "   <g id=\"line2d_1\">\n",
        "    <defs>\n",
        "     <path d=\"\n",
        "M0 3\n",
        "C0.795609 3 1.55874 2.6839 2.12132 2.12132\n",
        "C2.6839 1.55874 3 0.795609 3 0\n",
        "C3 -0.795609 2.6839 -1.55874 2.12132 -2.12132\n",
        "C1.55874 -2.6839 0.795609 -3 0 -3\n",
        "C-0.795609 -3 -1.55874 -2.6839 -2.12132 -2.12132\n",
        "C-2.6839 -1.55874 -3 -0.795609 -3 0\n",
        "C-3 0.795609 -2.6839 1.55874 -2.12132 2.12132\n",
        "C-1.55874 2.6839 -0.795609 3 0 3\n",
        "z\n",
        "\" id=\"md175be6dbf\" style=\"stroke:#000000;stroke-width:0.5;\"/>\n",
        "    </defs>\n",
        "    <g clip-path=\"url(#peb2de42508)\">\n",
        "     <use style=\"fill:#ff0000;stroke:#000000;stroke-width:0.5;\" x=\"278.846196893\" xlink:href=\"#md175be6dbf\" y=\"324.077982111\"/>\n",
        "    </g>\n",
        "   </g>\n",
        "   <g id=\"matplotlib.axis_1\">\n",
        "    <g id=\"xtick_1\">\n",
        "     <g id=\"line2d_2\">\n",
        "      <defs>\n",
        "       <path d=\"\n",
        "M0 0\n",
        "L0 -4\" id=\"m93b0483c22\" style=\"stroke:#000000;stroke-width:0.5;\"/>\n",
        "      </defs>\n",
        "      <g>\n",
        "       <use style=\"stroke:#000000;stroke-width:0.5;\" x=\"100.286196893\" xlink:href=\"#m93b0483c22\" y=\"358.606875\"/>\n",
        "      </g>\n",
        "     </g>\n",
        "     <g id=\"line2d_3\">\n",
        "      <defs>\n",
        "       <path d=\"\n",
        "M0 0\n",
        "L0 4\" id=\"m741efc42ff\" style=\"stroke:#000000;stroke-width:0.5;\"/>\n",
        "      </defs>\n",
        "      <g>\n",
        "       <use style=\"stroke:#000000;stroke-width:0.5;\" x=\"100.286196893\" xlink:href=\"#m741efc42ff\" y=\"13.006875\"/>\n",
        "      </g>\n",
        "     </g>\n",
        "     <g id=\"text_1\">\n",
        "      <!-- \u22120.4 -->\n",
        "      <defs>\n",
        "       <path d=\"\n",
        "M10.5938 35.5\n",
        "L73.1875 35.5\n",
        "L73.1875 27.2031\n",
        "L10.5938 27.2031\n",
        "z\n",
        "\" id=\"BitstreamVeraSans-Roman-2212\"/>\n",
        "       <path d=\"\n",
        "M31.7812 66.4062\n",
        "Q24.1719 66.4062 20.3281 58.9062\n",
        "Q16.5 51.4219 16.5 36.375\n",
        "Q16.5 21.3906 20.3281 13.8906\n",
        "Q24.1719 6.39062 31.7812 6.39062\n",
        "Q39.4531 6.39062 43.2812 13.8906\n",
        "Q47.125 21.3906 47.125 36.375\n",
        "Q47.125 51.4219 43.2812 58.9062\n",
        "Q39.4531 66.4062 31.7812 66.4062\n",
        "M31.7812 74.2188\n",
        "Q44.0469 74.2188 50.5156 64.5156\n",
        "Q56.9844 54.8281 56.9844 36.375\n",
        "Q56.9844 17.9688 50.5156 8.26562\n",
        "Q44.0469 -1.42188 31.7812 -1.42188\n",
        "Q19.5312 -1.42188 13.0625 8.26562\n",
        "Q6.59375 17.9688 6.59375 36.375\n",
        "Q6.59375 54.8281 13.0625 64.5156\n",
        "Q19.5312 74.2188 31.7812 74.2188\" id=\"BitstreamVeraSans-Roman-30\"/>\n",
        "       <path d=\"\n",
        "M10.6875 12.4062\n",
        "L21 12.4062\n",
        "L21 0\n",
        "L10.6875 0\n",
        "z\n",
        "\" id=\"BitstreamVeraSans-Roman-2e\"/>\n",
        "       <path d=\"\n",
        "M37.7969 64.3125\n",
        "L12.8906 25.3906\n",
        "L37.7969 25.3906\n",
        "z\n",
        "\n",
        "M35.2031 72.9062\n",
        "L47.6094 72.9062\n",
        "L47.6094 25.3906\n",
        "L58.0156 25.3906\n",
        "L58.0156 17.1875\n",
        "L47.6094 17.1875\n",
        "L47.6094 0\n",
        "L37.7969 0\n",
        "L37.7969 17.1875\n",
        "L4.89062 17.1875\n",
        "L4.89062 26.7031\n",
        "z\n",
        "\" id=\"BitstreamVeraSans-Roman-34\"/>\n",
        "      </defs>\n",
        "      <g transform=\"translate(86.6886968931 371.725)scale(0.12 -0.12)\">\n",
        "       <use xlink:href=\"#BitstreamVeraSans-Roman-2212\"/>\n",
        "       <use x=\"83.7890625\" xlink:href=\"#BitstreamVeraSans-Roman-30\"/>\n",
        "       <use x=\"147.412109375\" xlink:href=\"#BitstreamVeraSans-Roman-2e\"/>\n",
        "       <use x=\"179.19921875\" xlink:href=\"#BitstreamVeraSans-Roman-34\"/>\n",
        "      </g>\n",
        "     </g>\n",
        "    </g>\n",
        "    <g id=\"xtick_2\">\n",
        "     <g id=\"line2d_4\">\n",
        "      <g>\n",
        "       <use style=\"stroke:#000000;stroke-width:0.5;\" x=\"189.566196893\" xlink:href=\"#m93b0483c22\" y=\"358.606875\"/>\n",
        "      </g>\n",
        "     </g>\n",
        "     <g id=\"line2d_5\">\n",
        "      <g>\n",
        "       <use style=\"stroke:#000000;stroke-width:0.5;\" x=\"189.566196893\" xlink:href=\"#m741efc42ff\" y=\"13.006875\"/>\n",
        "      </g>\n",
        "     </g>\n",
        "     <g id=\"text_2\">\n",
        "      <!-- \u22120.2 -->\n",
        "      <defs>\n",
        "       <path d=\"\n",
        "M19.1875 8.29688\n",
        "L53.6094 8.29688\n",
        "L53.6094 0\n",
        "L7.32812 0\n",
        "L7.32812 8.29688\n",
        "Q12.9375 14.1094 22.625 23.8906\n",
        "Q32.3281 33.6875 34.8125 36.5312\n",
        "Q39.5469 41.8438 41.4219 45.5312\n",
        "Q43.3125 49.2188 43.3125 52.7812\n",
        "Q43.3125 58.5938 39.2344 62.25\n",
        "Q35.1562 65.9219 28.6094 65.9219\n",
        "Q23.9688 65.9219 18.8125 64.3125\n",
        "Q13.6719 62.7031 7.8125 59.4219\n",
        "L7.8125 69.3906\n",
        "Q13.7656 71.7812 18.9375 73\n",
        "Q24.125 74.2188 28.4219 74.2188\n",
        "Q39.75 74.2188 46.4844 68.5469\n",
        "Q53.2188 62.8906 53.2188 53.4219\n",
        "Q53.2188 48.9219 51.5312 44.8906\n",
        "Q49.8594 40.875 45.4062 35.4062\n",
        "Q44.1875 33.9844 37.6406 27.2188\n",
        "Q31.1094 20.4531 19.1875 8.29688\" id=\"BitstreamVeraSans-Roman-32\"/>\n",
        "      </defs>\n",
        "      <g transform=\"translate(176.233071893 371.725)scale(0.12 -0.12)\">\n",
        "       <use xlink:href=\"#BitstreamVeraSans-Roman-2212\"/>\n",
        "       <use x=\"83.7890625\" xlink:href=\"#BitstreamVeraSans-Roman-30\"/>\n",
        "       <use x=\"147.412109375\" xlink:href=\"#BitstreamVeraSans-Roman-2e\"/>\n",
        "       <use x=\"179.19921875\" xlink:href=\"#BitstreamVeraSans-Roman-32\"/>\n",
        "      </g>\n",
        "     </g>\n",
        "    </g>\n",
        "    <g id=\"xtick_3\">\n",
        "     <g id=\"line2d_6\">\n",
        "      <g>\n",
        "       <use style=\"stroke:#000000;stroke-width:0.5;\" x=\"278.846196893\" xlink:href=\"#m93b0483c22\" y=\"358.606875\"/>\n",
        "      </g>\n",
        "     </g>\n",
        "     <g id=\"line2d_7\">\n",
        "      <g>\n",
        "       <use style=\"stroke:#000000;stroke-width:0.5;\" x=\"278.846196893\" xlink:href=\"#m741efc42ff\" y=\"13.006875\"/>\n",
        "      </g>\n",
        "     </g>\n",
        "     <g id=\"text_3\">\n",
        "      <!-- 0.0 -->\n",
        "      <g transform=\"translate(270.098384393 371.725)scale(0.12 -0.12)\">\n",
        "       <use xlink:href=\"#BitstreamVeraSans-Roman-30\"/>\n",
        "       <use x=\"63.623046875\" xlink:href=\"#BitstreamVeraSans-Roman-2e\"/>\n",
        "       <use x=\"95.41015625\" xlink:href=\"#BitstreamVeraSans-Roman-30\"/>\n",
        "      </g>\n",
        "     </g>\n",
        "    </g>\n",
        "    <g id=\"xtick_4\">\n",
        "     <g id=\"line2d_8\">\n",
        "      <g>\n",
        "       <use style=\"stroke:#000000;stroke-width:0.5;\" x=\"368.126196893\" xlink:href=\"#m93b0483c22\" y=\"358.606875\"/>\n",
        "      </g>\n",
        "     </g>\n",
        "     <g id=\"line2d_9\">\n",
        "      <g>\n",
        "       <use style=\"stroke:#000000;stroke-width:0.5;\" x=\"368.126196893\" xlink:href=\"#m741efc42ff\" y=\"13.006875\"/>\n",
        "      </g>\n",
        "     </g>\n",
        "     <g id=\"text_4\">\n",
        "      <!-- 0.2 -->\n",
        "      <g transform=\"translate(359.580884393 371.725)scale(0.12 -0.12)\">\n",
        "       <use xlink:href=\"#BitstreamVeraSans-Roman-30\"/>\n",
        "       <use x=\"63.623046875\" xlink:href=\"#BitstreamVeraSans-Roman-2e\"/>\n",
        "       <use x=\"95.41015625\" xlink:href=\"#BitstreamVeraSans-Roman-32\"/>\n",
        "      </g>\n",
        "     </g>\n",
        "    </g>\n",
        "    <g id=\"xtick_5\">\n",
        "     <g id=\"line2d_10\">\n",
        "      <g>\n",
        "       <use style=\"stroke:#000000;stroke-width:0.5;\" x=\"457.406196893\" xlink:href=\"#m93b0483c22\" y=\"358.606875\"/>\n",
        "      </g>\n",
        "     </g>\n",
        "     <g id=\"line2d_11\">\n",
        "      <g>\n",
        "       <use style=\"stroke:#000000;stroke-width:0.5;\" x=\"457.406196893\" xlink:href=\"#m741efc42ff\" y=\"13.006875\"/>\n",
        "      </g>\n",
        "     </g>\n",
        "     <g id=\"text_5\">\n",
        "      <!-- 0.4 -->\n",
        "      <g transform=\"translate(448.596509393 371.725)scale(0.12 -0.12)\">\n",
        "       <use xlink:href=\"#BitstreamVeraSans-Roman-30\"/>\n",
        "       <use x=\"63.623046875\" xlink:href=\"#BitstreamVeraSans-Roman-2e\"/>\n",
        "       <use x=\"95.41015625\" xlink:href=\"#BitstreamVeraSans-Roman-34\"/>\n",
        "      </g>\n",
        "     </g>\n",
        "    </g>\n",
        "    <g id=\"text_6\">\n",
        "     <!-- $\\log_{10}(\\mathrm{scale})$ -->\n",
        "     <defs>\n",
        "      <path d=\"\n",
        "M9.28125 0\n",
        "L9.28125 3.51562\n",
        "Q21.7812 3.51562 21.7812 6.6875\n",
        "L21.7812 59.1875\n",
        "Q16.6094 56.6875 8.6875 56.6875\n",
        "L8.6875 60.2031\n",
        "Q20.9531 60.2031 27.2031 66.6094\n",
        "L28.6094 66.6094\n",
        "Q28.9531 66.6094 29.2656 66.3281\n",
        "Q29.5938 66.0625 29.5938 65.7188\n",
        "L29.5938 6.6875\n",
        "Q29.5938 3.51562 42.0938 3.51562\n",
        "L42.0938 0\n",
        "z\n",
        "\" id=\"Cmr10-31\"/>\n",
        "      <path d=\"\n",
        "M25 -2.20312\n",
        "Q12.75 -2.20312 8.32812 7.875\n",
        "Q3.90625 17.9688 3.90625 31.8906\n",
        "Q3.90625 40.5781 5.48438 48.2344\n",
        "Q7.07812 55.9062 11.7812 61.25\n",
        "Q16.5 66.6094 25 66.6094\n",
        "Q31.5938 66.6094 35.7812 63.375\n",
        "Q39.9844 60.1562 42.1875 55.0469\n",
        "Q44.3906 49.9531 45.1875 44.1094\n",
        "Q46 38.2812 46 31.8906\n",
        "Q46 23.2969 44.4062 15.7969\n",
        "Q42.8281 8.29688 38.1875 3.04688\n",
        "Q33.5469 -2.20312 25 -2.20312\n",
        "M25 0.390625\n",
        "Q30.5625 0.390625 33.2969 6.09375\n",
        "Q36.0312 11.8125 36.6719 18.75\n",
        "Q37.3125 25.6875 37.3125 33.5\n",
        "Q37.3125 41.0156 36.6719 47.3594\n",
        "Q36.0312 53.7188 33.3125 58.8594\n",
        "Q30.6094 64.0156 25 64.0156\n",
        "Q19.3438 64.0156 16.6094 58.8281\n",
        "Q13.875 53.6562 13.2344 47.3281\n",
        "Q12.5938 41.0156 12.5938 33.5\n",
        "Q12.5938 27.9375 12.8594 23\n",
        "Q13.1406 18.0625 14.3125 12.8125\n",
        "Q15.4844 7.5625 18.0938 3.96875\n",
        "Q20.7031 0.390625 25 0.390625\" id=\"Cmr10-30\"/>\n",
        "      <path d=\"\n",
        "M31 -24.8125\n",
        "Q25.4375 -20.4062 21.4062 -14.7188\n",
        "Q17.3906 -9.03125 14.8125 -2.57812\n",
        "Q12.25 3.85938 10.9844 10.8906\n",
        "Q9.71875 17.9219 9.71875 25\n",
        "Q9.71875 32.1719 10.9844 39.2031\n",
        "Q12.25 46.2344 14.8594 52.7344\n",
        "Q17.4844 59.2344 21.5312 64.8906\n",
        "Q25.5938 70.5625 31 74.8125\n",
        "Q31 75 31.5 75\n",
        "L32.4219 75\n",
        "Q32.7188 75 32.9531 74.7344\n",
        "Q33.2031 74.4688 33.2031 74.125\n",
        "Q33.2031 73.6875 33.0156 73.4844\n",
        "Q28.125 68.7031 24.875 63.2344\n",
        "Q21.625 57.7656 19.6406 51.5781\n",
        "Q17.6719 45.4062 16.7969 38.7812\n",
        "Q15.9219 32.1719 15.9219 25\n",
        "Q15.9219 -6.78125 32.9062 -23.2969\n",
        "Q33.2031 -23.5781 33.2031 -24.125\n",
        "Q33.2031 -24.3594 32.9375 -24.6719\n",
        "Q32.6719 -25 32.4219 -25\n",
        "L31.5 -25\n",
        "Q31 -25 31 -24.8125\" id=\"Cmr10-28\"/>\n",
        "      <path d=\"\n",
        "M6.5 -25\n",
        "Q5.60938 -25 5.60938 -24.125\n",
        "Q5.60938 -23.6875 5.8125 -23.4844\n",
        "Q22.9062 -6.78125 22.9062 25\n",
        "Q22.9062 56.7812 6 73.2969\n",
        "Q5.60938 73.5312 5.60938 74.125\n",
        "Q5.60938 74.4688 5.875 74.7344\n",
        "Q6.15625 75 6.5 75\n",
        "L7.42188 75\n",
        "Q7.71875 75 7.90625 74.8125\n",
        "Q15.0938 69.1406 19.875 61.0312\n",
        "Q24.6562 52.9375 26.875 43.75\n",
        "Q29.1094 34.5781 29.1094 25\n",
        "Q29.1094 17.9219 27.9062 11.0625\n",
        "Q26.7031 4.20312 24.0938 -2.45312\n",
        "Q21.4844 -9.125 17.4844 -14.7656\n",
        "Q13.4844 -20.4062 7.90625 -24.8125\n",
        "Q7.71875 -25 7.42188 -25\n",
        "z\n",
        "\" id=\"Cmr10-29\"/>\n",
        "      <path d=\"\n",
        "M25 -1.125\n",
        "Q19 -1.125 13.8594 1.92188\n",
        "Q8.73438 4.98438 5.75 10.1094\n",
        "Q2.78125 15.2344 2.78125 21.2969\n",
        "Q2.78125 25.875 4.42188 30.125\n",
        "Q6.0625 34.375 9.10938 37.7188\n",
        "Q12.1562 41.0625 16.2031 42.9375\n",
        "Q20.2656 44.8281 25 44.8281\n",
        "Q31.1562 44.8281 36.2031 41.5781\n",
        "Q41.2656 38.3281 44.1875 32.875\n",
        "Q47.125 27.4375 47.125 21.2969\n",
        "Q47.125 15.2812 44.1406 10.125\n",
        "Q41.1562 4.98438 36.0469 1.92188\n",
        "Q30.9531 -1.125 25 -1.125\n",
        "M25 1.8125\n",
        "Q33.0156 1.8125 35.6875 7.60938\n",
        "Q38.375 13.4219 38.375 22.4062\n",
        "Q38.375 27.4375 37.8438 30.7344\n",
        "Q37.3125 34.0312 35.5 36.7188\n",
        "Q34.375 38.375 32.6406 39.625\n",
        "Q30.9062 40.875 28.9688 41.5312\n",
        "Q27.0469 42.1875 25 42.1875\n",
        "Q21.875 42.1875 19.0625 40.7656\n",
        "Q16.2656 39.3594 14.4062 36.7188\n",
        "Q12.5469 33.8906 12.0312 30.4844\n",
        "Q11.5312 27.0938 11.5312 22.4062\n",
        "Q11.5312 16.7969 12.5 12.3281\n",
        "Q13.4844 7.85938 16.4375 4.82812\n",
        "Q19.3906 1.8125 25 1.8125\" id=\"Cmr10-6f\"/>\n",
        "      <path d=\"\n",
        "M3.07812 0\n",
        "L3.07812 3.51562\n",
        "Q6.5 3.51562 8.6875 4.04688\n",
        "Q10.8906 4.59375 10.8906 6.6875\n",
        "L10.8906 59.1875\n",
        "Q10.8906 61.8594 10.0781 63.0625\n",
        "Q9.28125 64.2656 7.76562 64.5312\n",
        "Q6.25 64.7969 3.07812 64.7969\n",
        "L3.07812 68.3125\n",
        "L17.9219 69.3906\n",
        "L17.9219 6.6875\n",
        "Q17.9219 4.59375 20.1094 4.04688\n",
        "Q22.3125 3.51562 25.6875 3.51562\n",
        "L25.6875 0\n",
        "z\n",
        "\" id=\"Cmr10-6c\"/>\n",
        "      <path d=\"\n",
        "M24.9062 -1.125\n",
        "Q18.7969 -1.125 13.6875 2.07812\n",
        "Q8.59375 5.28125 5.6875 10.625\n",
        "Q2.78125 15.9688 2.78125 21.9219\n",
        "Q2.78125 27.7812 5.4375 33.0469\n",
        "Q8.10938 38.3281 12.8594 41.5781\n",
        "Q17.625 44.8281 23.4844 44.8281\n",
        "Q28.0781 44.8281 31.4688 43.2812\n",
        "Q34.8594 41.75 37.0625 39.0156\n",
        "Q39.2656 36.2812 40.375 32.5625\n",
        "Q41.5 28.8594 41.5 24.4219\n",
        "Q41.5 23.0938 40.4844 23.0938\n",
        "L11.5312 23.0938\n",
        "L11.5312 22.0156\n",
        "Q11.5312 13.7188 14.875 7.76562\n",
        "Q18.2188 1.8125 25.7812 1.8125\n",
        "Q28.8594 1.8125 31.4688 3.17188\n",
        "Q34.0781 4.54688 36 6.98438\n",
        "Q37.9375 9.42188 38.625 12.2031\n",
        "Q38.7188 12.5469 38.9844 12.8125\n",
        "Q39.2656 13.0938 39.5938 13.0938\n",
        "L40.4844 13.0938\n",
        "Q41.5 13.0938 41.5 11.8125\n",
        "Q40.0938 6.15625 35.4062 2.51562\n",
        "Q30.7188 -1.125 24.9062 -1.125\n",
        "M11.625 25.5938\n",
        "L34.4219 25.5938\n",
        "Q34.4219 29.3438 33.375 33.2031\n",
        "Q32.3281 37.0625 29.875 39.625\n",
        "Q27.4375 42.1875 23.4844 42.1875\n",
        "Q17.8281 42.1875 14.7188 36.8906\n",
        "Q11.625 31.5938 11.625 25.5938\" id=\"Cmr10-65\"/>\n",
        "      <path d=\"\n",
        "M2.78125 -7.8125\n",
        "Q2.78125 -4.25 5.35938 -1.57812\n",
        "Q7.95312 1.07812 11.5312 2.20312\n",
        "Q9.51562 3.71875 8.46875 6\n",
        "Q7.42188 8.29688 7.42188 10.8906\n",
        "Q7.42188 15.5781 10.4062 19.1875\n",
        "Q5.8125 23.6875 5.8125 29.5\n",
        "Q5.8125 32.625 7.15625 35.3594\n",
        "Q8.5 38.0938 10.8906 40.0938\n",
        "Q13.2812 42.0938 16.2031 43.1406\n",
        "Q19.1406 44.1875 22.2188 44.1875\n",
        "Q28.1719 44.1875 32.9062 40.7188\n",
        "Q34.9688 42.9219 37.7656 44.1094\n",
        "Q40.5781 45.3125 43.6094 45.3125\n",
        "Q45.75 45.3125 47.1094 43.7656\n",
        "Q48.4844 42.2344 48.4844 40.0938\n",
        "Q48.4844 38.875 47.5469 37.9375\n",
        "Q46.625 37.0156 45.4062 37.0156\n",
        "Q44.1406 37.0156 43.2031 37.9375\n",
        "Q42.2812 38.875 42.2812 40.0938\n",
        "Q42.2812 41.9375 43.5 42.6719\n",
        "Q38.3281 42.6719 34.625 39.1094\n",
        "Q36.4219 37.3125 37.5156 34.6875\n",
        "Q38.625 32.0781 38.625 29.5\n",
        "Q38.625 25.25 36.2812 21.8438\n",
        "Q33.9375 18.4531 30.0938 16.5781\n",
        "Q26.2656 14.7031 22.2188 14.7031\n",
        "Q16.75 14.7031 12.2031 17.6719\n",
        "Q10.7969 15.7188 10.7969 13.2812\n",
        "Q10.7969 10.6406 12.5312 8.65625\n",
        "Q14.2656 6.6875 16.8906 6.6875\n",
        "L25.0938 6.6875\n",
        "Q31.0625 6.6875 35.8438 5.60938\n",
        "Q40.625 4.54688 43.875 1.3125\n",
        "Q47.125 -1.90625 47.125 -7.8125\n",
        "Q47.125 -12.2031 43.4062 -15.1094\n",
        "Q39.7031 -18.0156 34.5469 -19.3125\n",
        "Q29.3906 -20.6094 25 -20.6094\n",
        "Q20.5625 -20.6094 15.375 -19.3125\n",
        "Q10.2031 -18.0156 6.48438 -15.1094\n",
        "Q2.78125 -12.2031 2.78125 -7.8125\n",
        "M8.40625 -7.8125\n",
        "Q8.40625 -11.1875 11.1406 -13.4531\n",
        "Q13.875 -15.7188 17.7188 -16.8125\n",
        "Q21.5781 -17.9219 25 -17.9219\n",
        "Q28.375 -17.9219 32.2188 -16.8125\n",
        "Q36.0781 -15.7188 38.7812 -13.4531\n",
        "Q41.5 -11.1875 41.5 -7.8125\n",
        "Q41.5 -2.59375 36.7188 -1.04688\n",
        "Q31.9375 0.484375 25.0938 0.484375\n",
        "L16.8906 0.484375\n",
        "Q14.5938 0.484375 12.6719 -0.609375\n",
        "Q10.75 -1.70312 9.57812 -3.6875\n",
        "Q8.40625 -5.67188 8.40625 -7.8125\n",
        "M22.2188 17.3906\n",
        "Q30.7188 17.3906 30.7188 29.5\n",
        "Q30.7188 34.7188 28.9062 38.1094\n",
        "Q27.0938 41.5 22.2188 41.5\n",
        "Q17.3281 41.5 15.5156 38.1094\n",
        "Q13.7188 34.7188 13.7188 29.5\n",
        "Q13.7188 26.1719 14.4062 23.4844\n",
        "Q15.0938 20.7969 16.9375 19.0938\n",
        "Q18.7969 17.3906 22.2188 17.3906\" id=\"Cmr10-67\"/>\n",
        "      <path d=\"\n",
        "M3.32812 -0.296875\n",
        "L3.32812 16.0156\n",
        "Q3.32812 16.7969 4.20312 16.7969\n",
        "L5.42188 16.7969\n",
        "Q6 16.7969 6.20312 16.0156\n",
        "Q8.98438 1.51562 19.6719 1.51562\n",
        "Q24.4219 1.51562 27.6094 3.65625\n",
        "Q30.8125 5.8125 30.8125 10.2969\n",
        "Q30.8125 13.5312 28.3125 15.7969\n",
        "Q25.8281 18.0625 22.4062 18.8906\n",
        "L15.7188 20.2188\n",
        "Q12.3594 20.9531 9.59375 22.4531\n",
        "Q6.84375 23.9688 5.07812 26.4844\n",
        "Q3.32812 29 3.32812 32.3281\n",
        "Q3.32812 36.7188 5.64062 39.5156\n",
        "Q7.95312 42.3281 11.6562 43.5781\n",
        "Q15.375 44.8281 19.6719 44.8281\n",
        "Q24.8125 44.8281 28.6094 42.0938\n",
        "L31.5 44.5781\n",
        "Q31.5 44.8281 31.9844 44.8281\n",
        "L32.7188 44.8281\n",
        "Q33.0156 44.8281 33.25 44.5469\n",
        "Q33.5 44.2812 33.5 44\n",
        "L33.5 30.9062\n",
        "Q33.5 29.9844 32.7188 29.9844\n",
        "L31.5 29.9844\n",
        "Q30.6094 29.9844 30.6094 30.9062\n",
        "Q30.6094 36.1406 27.7031 39.3125\n",
        "Q24.8125 42.4844 19.5781 42.4844\n",
        "Q15.0938 42.4844 11.7969 40.8125\n",
        "Q8.5 39.1562 8.5 35.1094\n",
        "Q8.5 32.3281 10.8594 30.5469\n",
        "Q13.2344 28.7656 16.4062 27.9844\n",
        "L23.1875 26.7031\n",
        "Q26.6094 25.9219 29.5625 24.0625\n",
        "Q32.5156 22.2188 34.25 19.375\n",
        "Q35.9844 16.5469 35.9844 12.9844\n",
        "Q35.9844 9.375 34.7344 6.70312\n",
        "Q33.5 4.04688 31.2656 2.28125\n",
        "Q29.0469 0.53125 26.0156 -0.296875\n",
        "Q23 -1.125 19.6719 -1.125\n",
        "Q13.4219 -1.125 8.98438 3.07812\n",
        "L5.32812 -0.875\n",
        "Q5.32812 -1.125 4.78125 -1.125\n",
        "L4.20312 -1.125\n",
        "Q3.32812 -1.125 3.32812 -0.296875\" id=\"Cmr10-73\"/>\n",
        "      <path d=\"\n",
        "M4 9.8125\n",
        "Q4 15.7656 8.6875 19.5\n",
        "Q13.375 23.25 19.9375 24.7812\n",
        "Q26.5156 26.3125 32.4219 26.3125\n",
        "L32.4219 30.4219\n",
        "Q32.4219 33.2969 31.1562 36\n",
        "Q29.8906 38.7188 27.4844 40.4531\n",
        "Q25.0938 42.1875 22.2188 42.1875\n",
        "Q15.5781 42.1875 12.1094 39.2031\n",
        "Q14.0156 39.2031 15.25 37.7656\n",
        "Q16.5 36.3281 16.5 34.4219\n",
        "Q16.5 32.4219 15.0781 31\n",
        "Q13.6719 29.5938 11.7188 29.5938\n",
        "Q9.71875 29.5938 8.29688 31\n",
        "Q6.89062 32.4219 6.89062 34.4219\n",
        "Q6.89062 39.7031 11.6719 42.2656\n",
        "Q16.4531 44.8281 22.2188 44.8281\n",
        "Q26.2656 44.8281 30.3594 43.0938\n",
        "Q34.4688 41.3594 37.0781 38.125\n",
        "Q39.7031 34.9062 39.7031 30.6094\n",
        "L39.7031 8.10938\n",
        "Q39.7031 6.15625 40.5312 4.51562\n",
        "Q41.3594 2.875 43.1094 2.875\n",
        "Q44.7812 2.875 45.5781 4.53125\n",
        "Q46.3906 6.20312 46.3906 8.10938\n",
        "L46.3906 14.5\n",
        "L49.3125 14.5\n",
        "L49.3125 8.10938\n",
        "Q49.3125 5.85938 48.1406 3.82812\n",
        "Q46.9688 1.8125 44.9844 0.609375\n",
        "Q43.0156 -0.59375 40.7188 -0.59375\n",
        "Q37.7969 -0.59375 35.6719 1.67188\n",
        "Q33.5469 3.95312 33.2969 7.07812\n",
        "Q31.4531 3.32812 27.8281 1.09375\n",
        "Q24.2188 -1.125 20.125 -1.125\n",
        "Q16.3125 -1.125 12.625 0\n",
        "Q8.9375 1.125 6.46875 3.53125\n",
        "Q4 5.95312 4 9.8125\n",
        "M12.1094 9.8125\n",
        "Q12.1094 6.29688 14.6875 3.90625\n",
        "Q17.2812 1.51562 20.7969 1.51562\n",
        "Q24.0312 1.51562 26.6562 3.125\n",
        "Q29.2969 4.73438 30.8594 7.51562\n",
        "Q32.4219 10.2969 32.4219 13.375\n",
        "L32.4219 23.7812\n",
        "Q27.875 23.7812 23.1094 22.2812\n",
        "Q18.3594 20.7969 15.2344 17.625\n",
        "Q12.1094 14.4531 12.1094 9.8125\" id=\"Cmr10-61\"/>\n",
        "      <path d=\"\n",
        "M24.9062 -1.125\n",
        "Q18.8438 -1.125 13.9062 2.01562\n",
        "Q8.98438 5.17188 6.15625 10.4219\n",
        "Q3.32812 15.6719 3.32812 21.5781\n",
        "Q3.32812 27.4844 6.125 32.9062\n",
        "Q8.9375 38.3281 13.8906 41.5781\n",
        "Q18.8438 44.8281 24.9062 44.8281\n",
        "Q30.7656 44.8281 35.5625 42.5312\n",
        "Q40.375 40.2344 40.375 35.0156\n",
        "Q40.375 33.0625 38.9844 31.6094\n",
        "Q37.5938 30.1719 35.5938 30.1719\n",
        "Q33.5938 30.1719 32.2031 31.6094\n",
        "Q30.8125 33.0625 30.8125 35.0156\n",
        "Q30.8125 36.7656 31.9375 38.0625\n",
        "Q33.0625 39.3594 34.7188 39.7031\n",
        "Q31.25 41.8906 25 41.8906\n",
        "Q20.2188 41.8906 17.2812 38.7188\n",
        "Q14.3594 35.5469 13.1875 30.8594\n",
        "Q12.0156 26.1719 12.0156 21.5781\n",
        "Q12.0156 16.75 13.4531 12.2344\n",
        "Q14.8906 7.71875 18.0938 4.76562\n",
        "Q21.2969 1.8125 26.125 1.8125\n",
        "Q30.8594 1.8125 34.1719 4.71875\n",
        "Q37.5 7.625 38.7188 12.3125\n",
        "Q38.7188 12.8906 39.5 12.8906\n",
        "L40.7188 12.8906\n",
        "Q41.0156 12.8906 41.25 12.625\n",
        "Q41.5 12.3594 41.5 12.0156\n",
        "L41.5 11.7188\n",
        "Q39.9844 5.8125 35.4844 2.34375\n",
        "Q31 -1.125 24.9062 -1.125\" id=\"Cmr10-63\"/>\n",
        "     </defs>\n",
        "     <g transform=\"translate(239.713125 388.220625)scale(0.12 -0.12)\">\n",
        "      <use xlink:href=\"#Cmr10-6c\"/>\n",
        "      <use transform=\"translate(27.685546875 0.0)\" xlink:href=\"#Cmr10-6f\"/>\n",
        "      <use transform=\"translate(77.685546875 0.0)\" xlink:href=\"#Cmr10-67\"/>\n",
        "      <use transform=\"translate(127.685546875 -25.509375)scale(0.7)\" xlink:href=\"#Cmr10-31\"/>\n",
        "      <use transform=\"translate(162.685546875 -25.509375)scale(0.7)\" xlink:href=\"#Cmr10-30\"/>\n",
        "      <use transform=\"translate(197.685546875 0.0)\" xlink:href=\"#Cmr10-28\"/>\n",
        "      <use transform=\"translate(236.50390625 0.0)\" xlink:href=\"#Cmr10-73\"/>\n",
        "      <use transform=\"translate(275.908203125 0.0)\" xlink:href=\"#Cmr10-63\"/>\n",
        "      <use transform=\"translate(320.29296875 0.0)\" xlink:href=\"#Cmr10-61\"/>\n",
        "      <use transform=\"translate(370.29296875 0.0)\" xlink:href=\"#Cmr10-6c\"/>\n",
        "      <use transform=\"translate(397.978515625 0.0)\" xlink:href=\"#Cmr10-65\"/>\n",
        "      <use transform=\"translate(442.36328125 0.0)\" xlink:href=\"#Cmr10-29\"/>\n",
        "     </g>\n",
        "    </g>\n",
        "   </g>\n",
        "   <g id=\"matplotlib.axis_2\">\n",
        "    <g id=\"ytick_1\">\n",
        "     <g id=\"text_7\">\n",
        "      <!-- 0.0 -->\n",
        "      <g transform=\"translate(23.9375 361.952688456)scale(0.12 -0.12)\">\n",
        "       <use xlink:href=\"#BitstreamVeraSans-Roman-30\"/>\n",
        "       <use x=\"63.623046875\" xlink:href=\"#BitstreamVeraSans-Roman-2e\"/>\n",
        "       <use x=\"95.41015625\" xlink:href=\"#BitstreamVeraSans-Roman-30\"/>\n",
        "      </g>\n",
        "     </g>\n",
        "    </g>\n",
        "    <g id=\"ytick_2\">\n",
        "     <g id=\"line2d_12\">\n",
        "      <defs>\n",
        "       <path d=\"\n",
        "M0 0\n",
        "L4 0\" id=\"m728421d6d4\" style=\"stroke:#000000;stroke-width:0.5;\"/>\n",
        "      </defs>\n",
        "      <g>\n",
        "       <use style=\"stroke:#000000;stroke-width:0.5;\" x=\"45.433125\" xlink:href=\"#m728421d6d4\" y=\"289.514525765\"/>\n",
        "      </g>\n",
        "     </g>\n",
        "     <g id=\"line2d_13\">\n",
        "      <defs>\n",
        "       <path d=\"\n",
        "M0 0\n",
        "L-4 0\" id=\"mcb0005524f\" style=\"stroke:#000000;stroke-width:0.5;\"/>\n",
        "      </defs>\n",
        "      <g>\n",
        "       <use style=\"stroke:#000000;stroke-width:0.5;\" x=\"491.833125\" xlink:href=\"#mcb0005524f\" y=\"289.514525765\"/>\n",
        "      </g>\n",
        "     </g>\n",
        "     <g id=\"text_8\">\n",
        "      <!-- 0.2 -->\n",
        "      <g transform=\"translate(24.3425 292.825775765)scale(0.12 -0.12)\">\n",
        "       <use xlink:href=\"#BitstreamVeraSans-Roman-30\"/>\n",
        "       <use x=\"63.623046875\" xlink:href=\"#BitstreamVeraSans-Roman-2e\"/>\n",
        "       <use x=\"95.41015625\" xlink:href=\"#BitstreamVeraSans-Roman-32\"/>\n",
        "      </g>\n",
        "     </g>\n",
        "    </g>\n",
        "    <g id=\"ytick_3\">\n",
        "     <g id=\"line2d_14\">\n",
        "      <g>\n",
        "       <use style=\"stroke:#000000;stroke-width:0.5;\" x=\"45.433125\" xlink:href=\"#m728421d6d4\" y=\"220.387613074\"/>\n",
        "      </g>\n",
        "     </g>\n",
        "     <g id=\"line2d_15\">\n",
        "      <g>\n",
        "       <use style=\"stroke:#000000;stroke-width:0.5;\" x=\"491.833125\" xlink:href=\"#mcb0005524f\" y=\"220.387613074\"/>\n",
        "      </g>\n",
        "     </g>\n",
        "     <g id=\"text_9\">\n",
        "      <!-- 0.4 -->\n",
        "      <g transform=\"translate(23.81375 223.698863074)scale(0.12 -0.12)\">\n",
        "       <use xlink:href=\"#BitstreamVeraSans-Roman-30\"/>\n",
        "       <use x=\"63.623046875\" xlink:href=\"#BitstreamVeraSans-Roman-2e\"/>\n",
        "       <use x=\"95.41015625\" xlink:href=\"#BitstreamVeraSans-Roman-34\"/>\n",
        "      </g>\n",
        "     </g>\n",
        "    </g>\n",
        "    <g id=\"ytick_4\">\n",
        "     <g id=\"line2d_16\">\n",
        "      <g>\n",
        "       <use style=\"stroke:#000000;stroke-width:0.5;\" x=\"45.433125\" xlink:href=\"#m728421d6d4\" y=\"151.260700383\"/>\n",
        "      </g>\n",
        "     </g>\n",
        "     <g id=\"line2d_17\">\n",
        "      <g>\n",
        "       <use style=\"stroke:#000000;stroke-width:0.5;\" x=\"491.833125\" xlink:href=\"#mcb0005524f\" y=\"151.260700383\"/>\n",
        "      </g>\n",
        "     </g>\n",
        "     <g id=\"text_10\">\n",
        "      <!-- 0.6 -->\n",
        "      <defs>\n",
        "       <path d=\"\n",
        "M33.0156 40.375\n",
        "Q26.375 40.375 22.4844 35.8281\n",
        "Q18.6094 31.2969 18.6094 23.3906\n",
        "Q18.6094 15.5312 22.4844 10.9531\n",
        "Q26.375 6.39062 33.0156 6.39062\n",
        "Q39.6562 6.39062 43.5312 10.9531\n",
        "Q47.4062 15.5312 47.4062 23.3906\n",
        "Q47.4062 31.2969 43.5312 35.8281\n",
        "Q39.6562 40.375 33.0156 40.375\n",
        "M52.5938 71.2969\n",
        "L52.5938 62.3125\n",
        "Q48.875 64.0625 45.0938 64.9844\n",
        "Q41.3125 65.9219 37.5938 65.9219\n",
        "Q27.8281 65.9219 22.6719 59.3281\n",
        "Q17.5312 52.7344 16.7969 39.4062\n",
        "Q19.6719 43.6562 24.0156 45.9219\n",
        "Q28.375 48.1875 33.5938 48.1875\n",
        "Q44.5781 48.1875 50.9531 41.5156\n",
        "Q57.3281 34.8594 57.3281 23.3906\n",
        "Q57.3281 12.1562 50.6875 5.35938\n",
        "Q44.0469 -1.42188 33.0156 -1.42188\n",
        "Q20.3594 -1.42188 13.6719 8.26562\n",
        "Q6.98438 17.9688 6.98438 36.375\n",
        "Q6.98438 53.6562 15.1875 63.9375\n",
        "Q23.3906 74.2188 37.2031 74.2188\n",
        "Q40.9219 74.2188 44.7031 73.4844\n",
        "Q48.4844 72.75 52.5938 71.2969\" id=\"BitstreamVeraSans-Roman-36\"/>\n",
        "      </defs>\n",
        "      <g transform=\"translate(23.89625 154.571950383)scale(0.12 -0.12)\">\n",
        "       <use xlink:href=\"#BitstreamVeraSans-Roman-30\"/>\n",
        "       <use x=\"63.623046875\" xlink:href=\"#BitstreamVeraSans-Roman-2e\"/>\n",
        "       <use x=\"95.41015625\" xlink:href=\"#BitstreamVeraSans-Roman-36\"/>\n",
        "      </g>\n",
        "     </g>\n",
        "    </g>\n",
        "    <g id=\"ytick_5\">\n",
        "     <g id=\"line2d_18\">\n",
        "      <g>\n",
        "       <use style=\"stroke:#000000;stroke-width:0.5;\" x=\"45.433125\" xlink:href=\"#m728421d6d4\" y=\"82.1337876913\"/>\n",
        "      </g>\n",
        "     </g>\n",
        "     <g id=\"line2d_19\">\n",
        "      <g>\n",
        "       <use style=\"stroke:#000000;stroke-width:0.5;\" x=\"491.833125\" xlink:href=\"#mcb0005524f\" y=\"82.1337876913\"/>\n",
        "      </g>\n",
        "     </g>\n",
        "     <g id=\"text_11\">\n",
        "      <!-- 0.8 -->\n",
        "      <defs>\n",
        "       <path d=\"\n",
        "M31.7812 34.625\n",
        "Q24.75 34.625 20.7188 30.8594\n",
        "Q16.7031 27.0938 16.7031 20.5156\n",
        "Q16.7031 13.9219 20.7188 10.1562\n",
        "Q24.75 6.39062 31.7812 6.39062\n",
        "Q38.8125 6.39062 42.8594 10.1719\n",
        "Q46.9219 13.9688 46.9219 20.5156\n",
        "Q46.9219 27.0938 42.8906 30.8594\n",
        "Q38.875 34.625 31.7812 34.625\n",
        "M21.9219 38.8125\n",
        "Q15.5781 40.375 12.0312 44.7188\n",
        "Q8.5 49.0781 8.5 55.3281\n",
        "Q8.5 64.0625 14.7188 69.1406\n",
        "Q20.9531 74.2188 31.7812 74.2188\n",
        "Q42.6719 74.2188 48.875 69.1406\n",
        "Q55.0781 64.0625 55.0781 55.3281\n",
        "Q55.0781 49.0781 51.5312 44.7188\n",
        "Q48 40.375 41.7031 38.8125\n",
        "Q48.8281 37.1562 52.7969 32.3125\n",
        "Q56.7812 27.4844 56.7812 20.5156\n",
        "Q56.7812 9.90625 50.3125 4.23438\n",
        "Q43.8438 -1.42188 31.7812 -1.42188\n",
        "Q19.7344 -1.42188 13.25 4.23438\n",
        "Q6.78125 9.90625 6.78125 20.5156\n",
        "Q6.78125 27.4844 10.7812 32.3125\n",
        "Q14.7969 37.1562 21.9219 38.8125\n",
        "M18.3125 54.3906\n",
        "Q18.3125 48.7344 21.8438 45.5625\n",
        "Q25.3906 42.3906 31.7812 42.3906\n",
        "Q38.1406 42.3906 41.7188 45.5625\n",
        "Q45.3125 48.7344 45.3125 54.3906\n",
        "Q45.3125 60.0625 41.7188 63.2344\n",
        "Q38.1406 66.4062 31.7812 66.4062\n",
        "Q25.3906 66.4062 21.8438 63.2344\n",
        "Q18.3125 60.0625 18.3125 54.3906\" id=\"BitstreamVeraSans-Roman-38\"/>\n",
        "      </defs>\n",
        "      <g transform=\"translate(23.961875 85.4450376913)scale(0.12 -0.12)\">\n",
        "       <use xlink:href=\"#BitstreamVeraSans-Roman-30\"/>\n",
        "       <use x=\"63.623046875\" xlink:href=\"#BitstreamVeraSans-Roman-2e\"/>\n",
        "       <use x=\"95.41015625\" xlink:href=\"#BitstreamVeraSans-Roman-38\"/>\n",
        "      </g>\n",
        "     </g>\n",
        "    </g>\n",
        "    <g id=\"ytick_6\">\n",
        "     <g id=\"line2d_20\">\n",
        "      <g>\n",
        "       <use style=\"stroke:#000000;stroke-width:0.5;\" x=\"45.433125\" xlink:href=\"#m728421d6d4\" y=\"13.006875\"/>\n",
        "      </g>\n",
        "     </g>\n",
        "     <g id=\"line2d_21\">\n",
        "      <g>\n",
        "       <use style=\"stroke:#000000;stroke-width:0.5;\" x=\"491.833125\" xlink:href=\"#mcb0005524f\" y=\"13.006875\"/>\n",
        "      </g>\n",
        "     </g>\n",
        "     <g id=\"text_12\">\n",
        "      <!-- 1.0 -->\n",
        "      <defs>\n",
        "       <path d=\"\n",
        "M12.4062 8.29688\n",
        "L28.5156 8.29688\n",
        "L28.5156 63.9219\n",
        "L10.9844 60.4062\n",
        "L10.9844 69.3906\n",
        "L28.4219 72.9062\n",
        "L38.2812 72.9062\n",
        "L38.2812 8.29688\n",
        "L54.3906 8.29688\n",
        "L54.3906 0\n",
        "L12.4062 0\n",
        "z\n",
        "\" id=\"BitstreamVeraSans-Roman-31\"/>\n",
        "      </defs>\n",
        "      <g transform=\"translate(24.464375 16.318125)scale(0.12 -0.12)\">\n",
        "       <use xlink:href=\"#BitstreamVeraSans-Roman-31\"/>\n",
        "       <use x=\"63.623046875\" xlink:href=\"#BitstreamVeraSans-Roman-2e\"/>\n",
        "       <use x=\"95.41015625\" xlink:href=\"#BitstreamVeraSans-Roman-30\"/>\n",
        "      </g>\n",
        "     </g>\n",
        "    </g>\n",
        "    <g id=\"text_13\">\n",
        "     <!-- shape -->\n",
        "     <defs>\n",
        "      <path d=\"\n",
        "M56.2031 29.5938\n",
        "L56.2031 25.2031\n",
        "L14.8906 25.2031\n",
        "Q15.4844 15.9219 20.4844 11.0625\n",
        "Q25.4844 6.20312 34.4219 6.20312\n",
        "Q39.5938 6.20312 44.4531 7.46875\n",
        "Q49.3125 8.73438 54.1094 11.2812\n",
        "L54.1094 2.78125\n",
        "Q49.2656 0.734375 44.1875 -0.34375\n",
        "Q39.1094 -1.42188 33.8906 -1.42188\n",
        "Q20.7969 -1.42188 13.1562 6.1875\n",
        "Q5.51562 13.8125 5.51562 26.8125\n",
        "Q5.51562 40.2344 12.7656 48.1094\n",
        "Q20.0156 56 32.3281 56\n",
        "Q43.3594 56 49.7812 48.8906\n",
        "Q56.2031 41.7969 56.2031 29.5938\n",
        "M47.2188 32.2344\n",
        "Q47.125 39.5938 43.0938 43.9844\n",
        "Q39.0625 48.3906 32.4219 48.3906\n",
        "Q24.9062 48.3906 20.3906 44.1406\n",
        "Q15.875 39.8906 15.1875 32.1719\n",
        "z\n",
        "\" id=\"BitstreamVeraSans-Roman-65\"/>\n",
        "      <path d=\"\n",
        "M34.2812 27.4844\n",
        "Q23.3906 27.4844 19.1875 25\n",
        "Q14.9844 22.5156 14.9844 16.5\n",
        "Q14.9844 11.7188 18.1406 8.90625\n",
        "Q21.2969 6.10938 26.7031 6.10938\n",
        "Q34.1875 6.10938 38.7031 11.4062\n",
        "Q43.2188 16.7031 43.2188 25.4844\n",
        "L43.2188 27.4844\n",
        "z\n",
        "\n",
        "M52.2031 31.2031\n",
        "L52.2031 0\n",
        "L43.2188 0\n",
        "L43.2188 8.29688\n",
        "Q40.1406 3.32812 35.5469 0.953125\n",
        "Q30.9531 -1.42188 24.3125 -1.42188\n",
        "Q15.9219 -1.42188 10.9531 3.29688\n",
        "Q6 8.01562 6 15.9219\n",
        "Q6 25.1406 12.1719 29.8281\n",
        "Q18.3594 34.5156 30.6094 34.5156\n",
        "L43.2188 34.5156\n",
        "L43.2188 35.4062\n",
        "Q43.2188 41.6094 39.1406 45\n",
        "Q35.0625 48.3906 27.6875 48.3906\n",
        "Q23 48.3906 18.5469 47.2656\n",
        "Q14.1094 46.1406 10.0156 43.8906\n",
        "L10.0156 52.2031\n",
        "Q14.9375 54.1094 19.5781 55.0469\n",
        "Q24.2188 56 28.6094 56\n",
        "Q40.4844 56 46.3438 49.8438\n",
        "Q52.2031 43.7031 52.2031 31.2031\" id=\"BitstreamVeraSans-Roman-61\"/>\n",
        "      <path d=\"\n",
        "M44.2812 53.0781\n",
        "L44.2812 44.5781\n",
        "Q40.4844 46.5312 36.375 47.5\n",
        "Q32.2812 48.4844 27.875 48.4844\n",
        "Q21.1875 48.4844 17.8438 46.4375\n",
        "Q14.5 44.3906 14.5 40.2812\n",
        "Q14.5 37.1562 16.8906 35.375\n",
        "Q19.2812 33.5938 26.5156 31.9844\n",
        "L29.5938 31.2969\n",
        "Q39.1562 29.25 43.1875 25.5156\n",
        "Q47.2188 21.7812 47.2188 15.0938\n",
        "Q47.2188 7.46875 41.1875 3.01562\n",
        "Q35.1562 -1.42188 24.6094 -1.42188\n",
        "Q20.2188 -1.42188 15.4531 -0.5625\n",
        "Q10.6875 0.296875 5.42188 2\n",
        "L5.42188 11.2812\n",
        "Q10.4062 8.6875 15.2344 7.39062\n",
        "Q20.0625 6.10938 24.8125 6.10938\n",
        "Q31.1562 6.10938 34.5625 8.28125\n",
        "Q37.9844 10.4531 37.9844 14.4062\n",
        "Q37.9844 18.0625 35.5156 20.0156\n",
        "Q33.0625 21.9688 24.7031 23.7812\n",
        "L21.5781 24.5156\n",
        "Q13.2344 26.2656 9.51562 29.9062\n",
        "Q5.8125 33.5469 5.8125 39.8906\n",
        "Q5.8125 47.6094 11.2812 51.7969\n",
        "Q16.75 56 26.8125 56\n",
        "Q31.7812 56 36.1719 55.2656\n",
        "Q40.5781 54.5469 44.2812 53.0781\" id=\"BitstreamVeraSans-Roman-73\"/>\n",
        "      <path d=\"\n",
        "M18.1094 8.20312\n",
        "L18.1094 -20.7969\n",
        "L9.07812 -20.7969\n",
        "L9.07812 54.6875\n",
        "L18.1094 54.6875\n",
        "L18.1094 46.3906\n",
        "Q20.9531 51.2656 25.2656 53.625\n",
        "Q29.5938 56 35.5938 56\n",
        "Q45.5625 56 51.7812 48.0938\n",
        "Q58.0156 40.1875 58.0156 27.2969\n",
        "Q58.0156 14.4062 51.7812 6.48438\n",
        "Q45.5625 -1.42188 35.5938 -1.42188\n",
        "Q29.5938 -1.42188 25.2656 0.953125\n",
        "Q20.9531 3.32812 18.1094 8.20312\n",
        "M48.6875 27.2969\n",
        "Q48.6875 37.2031 44.6094 42.8438\n",
        "Q40.5312 48.4844 33.4062 48.4844\n",
        "Q26.2656 48.4844 22.1875 42.8438\n",
        "Q18.1094 37.2031 18.1094 27.2969\n",
        "Q18.1094 17.3906 22.1875 11.75\n",
        "Q26.2656 6.10938 33.4062 6.10938\n",
        "Q40.5312 6.10938 44.6094 11.75\n",
        "Q48.6875 17.3906 48.6875 27.2969\" id=\"BitstreamVeraSans-Roman-70\"/>\n",
        "      <path d=\"\n",
        "M54.8906 33.0156\n",
        "L54.8906 0\n",
        "L45.9062 0\n",
        "L45.9062 32.7188\n",
        "Q45.9062 40.4844 42.875 44.3281\n",
        "Q39.8438 48.1875 33.7969 48.1875\n",
        "Q26.5156 48.1875 22.3125 43.5469\n",
        "Q18.1094 38.9219 18.1094 30.9062\n",
        "L18.1094 0\n",
        "L9.07812 0\n",
        "L9.07812 75.9844\n",
        "L18.1094 75.9844\n",
        "L18.1094 46.1875\n",
        "Q21.3438 51.125 25.7031 53.5625\n",
        "Q30.0781 56 35.7969 56\n",
        "Q45.2188 56 50.0469 50.1719\n",
        "Q54.8906 44.3438 54.8906 33.0156\" id=\"BitstreamVeraSans-Roman-68\"/>\n",
        "     </defs>\n",
        "     <g transform=\"translate(16.318125 203.2678125)rotate(-90.0)scale(0.12 -0.12)\">\n",
        "      <use xlink:href=\"#BitstreamVeraSans-Roman-73\"/>\n",
        "      <use x=\"52.099609375\" xlink:href=\"#BitstreamVeraSans-Roman-68\"/>\n",
        "      <use x=\"115.478515625\" xlink:href=\"#BitstreamVeraSans-Roman-61\"/>\n",
        "      <use x=\"176.7578125\" xlink:href=\"#BitstreamVeraSans-Roman-70\"/>\n",
        "      <use x=\"240.234375\" xlink:href=\"#BitstreamVeraSans-Roman-65\"/>\n",
        "     </g>\n",
        "    </g>\n",
        "   </g>\n",
        "   <g id=\"patch_3\">\n",
        "    <path d=\"\n",
        "M45.4331 13.0069\n",
        "L491.833 13.0069\" style=\"fill:none;stroke:#000000;\"/>\n",
        "   </g>\n",
        "   <g id=\"patch_4\">\n",
        "    <path d=\"\n",
        "M491.833 358.607\n",
        "L491.833 13.0069\" style=\"fill:none;stroke:#000000;\"/>\n",
        "   </g>\n",
        "   <g id=\"patch_5\">\n",
        "    <path d=\"\n",
        "M45.4331 358.607\n",
        "L491.833 358.607\" style=\"fill:none;stroke:#000000;\"/>\n",
        "   </g>\n",
        "   <g id=\"patch_6\">\n",
        "    <path d=\"\n",
        "M45.4331 358.607\n",
        "L45.4331 13.0069\" style=\"fill:none;stroke:#000000;\"/>\n",
        "   </g>\n",
        "  </g>\n",
        " </g>\n",
        " <defs>\n",
        "  <clipPath id=\"peb2de42508\">\n",
        "   <rect height=\"345.6\" width=\"446.4\" x=\"45.433125\" y=\"13.006875\"/>\n",
        "  </clipPath>\n",
        " </defs>\n",
        "</svg>\n"
       ],
       "text": [
        "Figure(PyObject <matplotlib.figure.Figure object at 0x0000000027ED45C0>)"
       ]
      }
     ],
     "prompt_number": 44
    },
    {
     "cell_type": "markdown",
     "metadata": {},
     "source": [
      "2b.  Parallelize at least one of the for loops to speed up the calculations performed by eval_model_on_grid_loops.  The easiest way will be to parallelize the inner-most loop (that's embedded inside evaluate_mode).  Test that your code gives similar results for at least a few sets of parameter values. (To save time, you don't need to test every point on the grid).  "
     ]
    },
    {
     "cell_type": "markdown",
     "metadata": {},
     "source": [
      "2c.  Compare the performance of your parallel code to the serial code while varrying the number of processors (e.g., 1, 2, 4, 8).\n",
      "For your benchmarking, make sure you use a computer that has at least 8 cores.  How does the wall clock time scale with the number of processors?"
     ]
    },
    {
     "cell_type": "markdown",
     "metadata": {},
     "source": [
      "2d.  Modify part of the code, so as to replace the for loops in eval_model_on_grid_map with a call to the map function.  \n",
      "First, test this using a single processor.  Once that works, switch map to pmap and retest."
     ]
    },
    {
     "cell_type": "markdown",
     "metadata": {},
     "source": [
      "2e.  Compare the performance of your parallel code using map to the parallel code using @parallel.  \n",
      "Again, varry the number of processors (e.g., 1, 2, 4, 8) and make sure you use a computer that has at least 8 cores.  \n",
      "How does the wall clock time scale with the number of processors?"
     ]
    },
    {
     "cell_type": "markdown",
     "metadata": {},
     "source": [
      "2f.  Modify the code from 2e so as to make use of DistributedArrays.  When using DistributedArrays, use map, not pmap.  The function map automatically parallelizes the calculations across processors letting each processor work on the local portion of the distributed array.  map returns a distributed array with the same shape and distribution as the input DistributedArray.  (If you use pmap, then it'll take much longer, since there will be lots of unnecessary communications, and return a normal Array.)  Retest."
     ]
    },
    {
     "cell_type": "markdown",
     "metadata": {},
     "source": [
      "2g. Compare the performance of your parallel code using DistributedArrays to that of your code using standard arrays.  \n",
      "Explain why the performance is does not improve more signiifcantly.  "
     ]
    }
   ],
   "metadata": {}
  }
 ]
}